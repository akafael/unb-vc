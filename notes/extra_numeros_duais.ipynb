{
 "cells": [
  {
   "cell_type": "markdown",
   "metadata": {
    "collapsed": true,
    "deletable": true,
    "editable": true
   },
   "source": [
    "# Números Duais"
   ]
  },
  {
   "cell_type": "markdown",
   "metadata": {
    "deletable": true,
    "editable": true
   },
   "source": [
    "Números duais são definidos algebricamente como:\n",
    "\n",
    "$$q = a +\\epsilon b$$\n",
    "\n",
    "em que $\\epsilon^2 = 0$ e $\\epsilon\\neq0$.\n",
    "\n",
    "## Outras Representações\n",
    "\n",
    "### Forma Matricial\n",
    "$$q = \\left[\\begin{array}{cc}\n",
    "a & -b \\\\\n",
    "0 & a\n",
    "\\end{array}\\right]$$"
   ]
  },
  {
   "cell_type": "markdown",
   "metadata": {
    "deletable": true,
    "editable": true
   },
   "source": [
    "## Operações com números duais\n",
    "\n",
    "### Forma Algébrica"
   ]
  },
  {
   "cell_type": "code",
   "execution_count": 26,
   "metadata": {
    "collapsed": false,
    "deletable": true,
    "editable": true
   },
   "outputs": [
    {
     "data": {
      "text/latex": [
       "$$q_1 = a + b \\epsilon$$"
      ],
      "text/plain": [
       "<IPython.core.display.Math object>"
      ]
     },
     "metadata": {},
     "output_type": "display_data"
    },
    {
     "data": {
      "text/latex": [
       "$$q_2 = c + d \\epsilon$$"
      ],
      "text/plain": [
       "<IPython.core.display.Math object>"
      ]
     },
     "metadata": {},
     "output_type": "display_data"
    }
   ],
   "source": [
    "from sympy import *\n",
    "from IPython.display import display,Math\n",
    "\n",
    "# Constantes\n",
    "a,b,c,d = symbols(\"a b c d\",real=true, constant=true)\n",
    "et = symbols(\"epsilon\",constant=true)\n",
    "\n",
    "# Regras Algébricas\n",
    "regrasDuais = [(et**2,0)]\n",
    "\n",
    "# Números Duais\n",
    "q1 = a + b*et\n",
    "q2 = c + d*et\n",
    "\n",
    "display(Math(\"q_1 = \" + latex(q1)),Math(\"q_2 = \" + latex(q2)))"
   ]
  },
  {
   "cell_type": "code",
   "execution_count": 15,
   "metadata": {
    "collapsed": false,
    "deletable": true,
    "editable": true
   },
   "outputs": [
    {
     "data": {
      "text/latex": [
       "$$q_1 + q_2 = a + c + \\epsilon \\left(b + d\\right)$$"
      ],
      "text/plain": [
       "<IPython.core.display.Math object>"
      ]
     },
     "metadata": {},
     "output_type": "display_data"
    }
   ],
   "source": [
    "# Soma\n",
    "somaQ = q1 + q2\n",
    "somaQ = somaQ.subs(regrasDuais) # Aplica as Regras Algébricas para Duais\n",
    "somaQ = somaQ.collect(et)       # Agrupa Termos\n",
    "display(Math(\"q_1 + q_2 = \" + latex(somaQ)))"
   ]
  },
  {
   "cell_type": "code",
   "execution_count": 16,
   "metadata": {
    "collapsed": false,
    "deletable": true,
    "editable": true
   },
   "outputs": [
    {
     "data": {
      "text/latex": [
       "$$q_1 - q_2 = a - c + \\epsilon \\left(b - d\\right)$$"
      ],
      "text/plain": [
       "<IPython.core.display.Math object>"
      ]
     },
     "metadata": {},
     "output_type": "display_data"
    }
   ],
   "source": [
    "# Subtração\n",
    "subQ = q1 - q2\n",
    "subQ = subQ.subs(regrasDuais) # Aplica as Regras Algébricas para Duais\n",
    "subQ = subQ.collect(et)       # Agrupa Termos\n",
    "display(Math(\"q_1 - q_2 = \" + latex(subQ)))"
   ]
  },
  {
   "cell_type": "code",
   "execution_count": 27,
   "metadata": {
    "collapsed": false,
    "deletable": true,
    "editable": true
   },
   "outputs": [
    {
     "data": {
      "text/latex": [
       "$$q_1  q_2 = a c + \\epsilon \\left(a d + b c\\right)$$"
      ],
      "text/plain": [
       "<IPython.core.display.Math object>"
      ]
     },
     "metadata": {},
     "output_type": "display_data"
    }
   ],
   "source": [
    "# Produto\n",
    "produtoQ = q1*q2\n",
    "produtoQ = produtoQ.expand()          # Aplica Distribuição da Multiplicação\n",
    "produtoQ = produtoQ.collect(et)       # Agrupa Termos\n",
    "produtoQ = produtoQ.subs(regrasDuais) # Aplica as Regras Algébricas para Duais\n",
    "display(Math(\"q_1  q_2 = \" + latex(produtoQ)))"
   ]
  }
 ],
 "metadata": {
  "kernelspec": {
   "display_name": "Python 2",
   "language": "python",
   "name": "python2"
  },
  "language_info": {
   "codemirror_mode": {
    "name": "ipython",
    "version": 2
   },
   "file_extension": ".py",
   "mimetype": "text/x-python",
   "name": "python",
   "nbconvert_exporter": "python",
   "pygments_lexer": "ipython2",
   "version": "2.7.6"
  }
 },
 "nbformat": 4,
 "nbformat_minor": 2
}
