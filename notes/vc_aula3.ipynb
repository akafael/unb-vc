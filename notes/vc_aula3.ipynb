{
 "cells": [
  {
   "cell_type": "markdown",
   "metadata": {
    "deletable": true,
    "editable": true
   },
   "source": [
    "# Aula 3\n",
    "\n",
    "## Operações com números complexos\n",
    "\n",
    "### Forma Polar\n",
    "\n",
    "Supondo dois números complexos $z_1$ e $z_2$ tais que\n",
    "\n",
    "$$z_1 = r_1 e^{i\\theta_1}, r_1 \\neq 0$$\n",
    "$$z_2 = r_2 e^{i\\theta_2}, r_2 \\neq 0$$"
   ]
  },
  {
   "cell_type": "code",
   "execution_count": 1,
   "metadata": {
    "collapsed": true,
    "deletable": true,
    "editable": true
   },
   "outputs": [],
   "source": [
    "from sympy import *\n",
    "from IPython.display import display,Math\n",
    "\n",
    "r1,r2,t1,t2 = symbols(\"rho_1 rho_2 theta_1 theta_2\",constant=true,real=true)\n",
    "\n",
    "z1 = r1*exp(I*t1)\n",
    "z2 = r2*exp(I*t2)"
   ]
  },
  {
   "cell_type": "markdown",
   "metadata": {
    "deletable": true,
    "editable": true
   },
   "source": [
    "#### B1 Multiplicação"
   ]
  },
  {
   "cell_type": "code",
   "execution_count": 2,
   "metadata": {
    "collapsed": false,
    "deletable": true,
    "editable": true
   },
   "outputs": [
    {
     "data": {
      "text/latex": [
       "$$z_1 z_2 = \\rho_{1} \\rho_{2} e^{i \\left(\\theta_{1} + \\theta_{2}\\right)}$$"
      ],
      "text/plain": [
       "<IPython.core.display.Math object>"
      ]
     },
     "metadata": {},
     "output_type": "display_data"
    }
   ],
   "source": [
    "produtoZ = z1*z2\n",
    "produtoZ = produtoZ.simplify()\n",
    "display(Math(\"z_1 z_2 = \"+latex(produtoZ)))"
   ]
  },
  {
   "cell_type": "markdown",
   "metadata": {
    "deletable": true,
    "editable": true
   },
   "source": [
    "#### B2 Divisão"
   ]
  },
  {
   "cell_type": "code",
   "execution_count": 3,
   "metadata": {
    "collapsed": false,
    "deletable": true,
    "editable": true
   },
   "outputs": [
    {
     "data": {
      "text/latex": [
       "$$\\frac{z_1}{z_2} = \\frac{\\rho_{1}}{\\rho_{2}} e^{i \\left(\\theta_{1} - \\theta_{2}\\right)}$$"
      ],
      "text/plain": [
       "<IPython.core.display.Math object>"
      ]
     },
     "metadata": {},
     "output_type": "display_data"
    }
   ],
   "source": [
    "divisaoZ = z1/z2\n",
    "divisaoZ = divisaoZ.simplify()\n",
    "display(Math(\"\\\\frac{z_1}{z_2} = \"+ latex(divisaoZ)))"
   ]
  },
  {
   "cell_type": "markdown",
   "metadata": {
    "deletable": true,
    "editable": true
   },
   "source": [
    "#### B3 Potênciação\n",
    "\n",
    "Podemos obter a potênciação a partir da indução através da multiplicação:\n",
    "\n",
    "$$z_j = r_j e^{i\\theta_j}\\ , \\ j = 1,2,\\cdots , n$$\n",
    "\n",
    "$$z_1 z_2 z_3 \\cdots z_n = r_1 r_2 \\cdots r_n e^{\\theta_1+\\theta_2+\\cdots+ \\theta_n}$$\n",
    "\n",
    "Assumindo todos iguais"
   ]
  },
  {
   "cell_type": "code",
   "execution_count": 4,
   "metadata": {
    "collapsed": false,
    "deletable": true,
    "editable": true
   },
   "outputs": [
    {
     "data": {
      "text/latex": [
       "$$z_1^n = \\left(\\rho_{1} e^{i \\theta_{1}}\\right)^{n}$$"
      ],
      "text/plain": [
       "<IPython.core.display.Math object>"
      ]
     },
     "metadata": {},
     "output_type": "display_data"
    }
   ],
   "source": [
    "n = symbols(\"n\",real=true,constant=true)\n",
    "expZ = z1**n\n",
    "expZ = expZ.simplify()\n",
    "display(Math(\"z_1^n = \"+ latex(expZ)))"
   ]
  },
  {
   "cell_type": "markdown",
   "metadata": {
    "deletable": true,
    "editable": true
   },
   "source": [
    "#### B4 Radiciação\n",
    "\n",
    "Avaliando a raiz:\n",
    "\n",
    "$$w = z^{\\frac{1}{n}} = \\sqrt[n]{z}$$\n",
    "\n",
    "###### 1o Caso ($z=0$)\n",
    "\n",
    "$$z=0 \\Rightarrow w = (0)^{\\frac{1}{n}} = 0$$\n",
    "\n",
    "###### 2o Caso ($z = r (\\cos(\\theta) + \\sin(\\theta))$)\n",
    "\n",
    "Supondo $w$ tal que\n",
    "\n",
    "$$w = \\rho (\\cos(\\phi) + \\sin(\\phi))$$\n",
    "\n",
    "A partir do resultado [B3](#B3-Potênciação) elevando $w^n$ temos\n",
    "\n",
    "$$w^n = \\rho^n (\\cos(n \\phi) + \\sin(n \\phi))$$\n",
    "\n",
    "Porem $w^n =z$ e portanto por igualdade de números complexos temos que $\\rho^n = p$ e $n \\theta = \\phi$. Isolando $\\rho$ e $\\phi$:\n",
    "\n",
    "$$\n",
    "\\left\\{\\begin{array}{l}\n",
    "\\rho = r^{\\frac{1}{n}}\\\\\n",
    "\\phi = \\frac{\\theta + 2k\\pi}{n}\n",
    "\\end{array}\\right. \\ ,\\ n \\neq 0 $$\n",
    "\n",
    "E portanto temos para todas as n raizes enésimas de $z$\n",
    "\n",
    "$$w = \\sqrt[n]{r} \\left(\\cos\\left(\\frac{\\theta + 2k\\pi}{n}\\right) + \\sin\\left(\\frac{\\theta + 2k\\pi}{n}\\right)\\right)$$\n",
    "\n",
    "com $0\\leq k \\leq n-1$."
   ]
  }
 ],
 "metadata": {
  "kernelspec": {
   "display_name": "Python 2",
   "language": "python",
   "name": "python2"
  },
  "language_info": {
   "codemirror_mode": {
    "name": "ipython",
    "version": 2
   },
   "file_extension": ".py",
   "mimetype": "text/x-python",
   "name": "python",
   "nbconvert_exporter": "python",
   "pygments_lexer": "ipython2",
   "version": "2.7.6"
  }
 },
 "nbformat": 4,
 "nbformat_minor": 2
}
