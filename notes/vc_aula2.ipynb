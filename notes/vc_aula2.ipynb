{
 "cells": [
  {
   "cell_type": "markdown",
   "metadata": {},
   "source": [
    "# Aula 2\n",
    "\n",
    "<script>\n",
    "    MathJax.Hub.Config({\n",
    "        displayAlign: 'center'\n",
    "    });\n",
    "</script>"
   ]
  },
  {
   "cell_type": "markdown",
   "metadata": {
    "deletable": true,
    "editable": true
   },
   "source": [
    "Unidade Imaginária\n",
    "\n",
    "$$i = \\sqrt{-1}$$\n",
    "\n",
    "Os números complexos são definidos como\n",
    "\n",
    "$$\\mathbb{C}: z = (a,b) = a + b i$$\n",
    "\n",
    "em que $a$ e $b$ pertencem aos números reais e $i$ representa a unidade imaginária. $z = (a,b)$ e $z = a+bi$ as notações vetorial e  algébrica respectivamente. Além destas há também outras representações úteis como a forma polar e a representação exponêncial.\n",
    "\n",
    "\n",
    "## Representações\n",
    "\n",
    "### Forma Geométrica e Forma Vetorial\n",
    "\n",
    "Dado $z = (a,b) = a +bi$, identificamos como $z$ o ponto $P = (a,b)$ em $\\mathbb{R}^2$ ou como extremidade do vetor $\\vec{OP}$ partindo de $O$ até $P = (a,b)$. Este gráfico também é chamado de [plano complexo](https://pt.wikipedia.org/wiki/Plano_complexo) ou plano de Argand-Gaus.\n",
    "\n",
    "![Grafico](https://upload.wikimedia.org/wikipedia/commons/a/af/Complex_number_illustration.svg)\n",
    "\n",
    "### Forma Polar\n",
    "\n",
    "Dado $z=(a,b) = a + bi $ com $z \\neq (0,0)$ suas coordenadas polares são chamadas respectivamente de *Módulo* ( ou Valor Absoluto ) e *Argumento* de $z$.\n",
    "\n",
    "![Gráfico Polar](https://upload.wikimedia.org/wikipedia/commons/7/7a/Complex_number_illustration_modarg.svg)\n",
    "\n",
    "#### Notação\n",
    "\n",
    "$$\n",
    "z= (r,\\theta) , \n",
    "\\left\\{\n",
    "\\begin{array}{l}\n",
    "r = |z| = d(O,P) = \\sqrt{a^2 + b^2}\\\\\n",
    "\\theta = arg(z) = arctg\\left(\\frac{b}{a}\\right)\\\\\n",
    "\\end{array}\n",
    "\\right.\n",
    "$$\n",
    "\n",
    "*Nota:* $r = |z| >= 0 $ por representar a distância entre os pontos e $\\theta$ não é um valor único. Na verdade, $\\theta = \\theta_0 + 2k\\pi , k = 0,\\pm 1, \\pm 2, ...$ em que $\\theta_0$ possui valor fixo. Em geral temos $0 \\leq \\theta_0 \\leq 2 \\pi$. Porém nada impede a escolha de outro intervalo como $\\frac{pi}{2} \\leq \\theta_0 \\leq \\frac{5 pi}{2}$ por exemplo.\n",
    "\n",
    "Para um número $z = (a,b) = a + bi$ temos $\\cos(\\theta) = \\frac{a}{r}$ , $\\sin(\\theta) = \\frac{b}{r}$ e $r = |z|$. Isolando $a$ e $b$ e substituindo temos $z = r(\\cos(\\theta) + i \\sin(\\theta)$ , $r \\neq 0$.\n",
    "\n",
    "##### Exemplo\n",
    "\n",
    "Dado $z = (1,\\sqrt{3}) = 1 + i \\sqrt{3}$ temos, calculando o módulo de $z$ temos:\n",
    "\n",
    "$$r = |z| = \\sqrt{1^2 + (\\sqrt{3})^2} = \\sqrt{4} = 2$$\n",
    "\n",
    "E o argumento de z pode ser obtido por:\n",
    "$$\\theta = arctg\\left(\\frac{\\sqrt{3}}{1}\\right) = \\frac{\\pi}{6}$$\n",
    "\n",
    "Logo podemos representar $z$ na forma polar como\n",
    "$$z = r (\\cos(\\theta) + i\\sin (\\theta) = 2 (\\cos \\left(\\frac{\\pi}{6}\\right) + i  \\sin \\left(\\frac{\\pi}{6}\\right))$$\n",
    "\n",
    "### Forma exponêncial\n",
    "\n",
    "Teorema ([Leonard Euler](https://pt.wikipedia.org/wiki/Leonhard_Euler), 1707 - 1783)\n"
   ]
  },
  {
   "cell_type": "markdown",
   "metadata": {
    "deletable": true,
    "editable": true
   },
   "source": [
    "## Operações com números complexos\n",
    "\n",
    "### Forma Algébrica\n",
    "\n",
    "Dado dos números complexo $z_1 = a + bi$ e $z_2 = c+bi$"
   ]
  },
  {
   "cell_type": "code",
   "execution_count": 1,
   "metadata": {
    "collapsed": true,
    "deletable": true,
    "editable": true
   },
   "outputs": [],
   "source": [
    "from sympy import *\n",
    "from IPython.display import display,Math\n",
    "\n",
    "# Constantes\n",
    "a,b,c,d = symbols(\"a b c d\",real=true, constant= true)\n",
    "\n",
    "# Números Complexos\n",
    "z1 = a + b*I\n",
    "z2 = c + d*I"
   ]
  },
  {
   "cell_type": "markdown",
   "metadata": {
    "deletable": true,
    "editable": true
   },
   "source": [
    "#### A1 Igualdade:\n",
    "$$z_1 = z_2 \\Leftrightarrow (a+bi) = (c+di)$$\n",
    "$$(a+bi) = (c+bi) \\Leftrightarrow \n",
    "\\left\\{\\begin{array}{l}\n",
    "a = c \\\\\n",
    "b = d\n",
    "\\end{array}\\right.$$"
   ]
  },
  {
   "cell_type": "markdown",
   "metadata": {
    "deletable": true,
    "editable": true
   },
   "source": [
    "#### A2 Adição:\n",
    "$$z_1 + z_2 = (a+bi)+(c+di)$$\n",
    "Agrupando os termos comuns temos \n",
    "$$z_1 + z_2 = (a+c)+(b+d)i$$"
   ]
  },
  {
   "cell_type": "code",
   "execution_count": 12,
   "metadata": {
    "collapsed": false,
    "deletable": true,
    "editable": true
   },
   "outputs": [
    {
     "data": {
      "text/latex": [
       "$$z_1 + z_2 = a + c + i \\left(b + d\\right)$$"
      ],
      "text/plain": [
       "<IPython.core.display.Math object>"
      ]
     },
     "metadata": {},
     "output_type": "display_data"
    }
   ],
   "source": [
    "# Soma\n",
    "somaZ = z1 + z2\n",
    "somaZ = somaZ.collect(I)\n",
    "display(Math(\"z_1 + z_2 = \"+ latex(somaZ)))"
   ]
  },
  {
   "cell_type": "markdown",
   "metadata": {
    "deletable": true,
    "editable": true
   },
   "source": [
    "#### A3 Subtração:\n",
    "$$z_1 - z_2 = z_1 + (-z_2) = (a+bi)+(-c-di)$$\n",
    "Agrupando os termos comuns temos \n",
    "$$z_1 - z_2 = (a-c)+(b-d)i$$"
   ]
  },
  {
   "cell_type": "code",
   "execution_count": 3,
   "metadata": {
    "collapsed": false,
    "deletable": true,
    "editable": true
   },
   "outputs": [
    {
     "data": {
      "text/latex": [
       "$$z_1 - z_2 = a - c + i \\left(b - d\\right)$$"
      ],
      "text/plain": [
       "<IPython.core.display.Math object>"
      ]
     },
     "metadata": {},
     "output_type": "display_data"
    }
   ],
   "source": [
    "# Subtração\n",
    "subZ = z1 - z2\n",
    "subZ = subZ.collect(I)\n",
    "display(Math(\"z_1 - z_2 = \"+ latex(subZ)))"
   ]
  },
  {
   "cell_type": "markdown",
   "metadata": {
    "deletable": true,
    "editable": true
   },
   "source": [
    "#### A4 Multiplicação\n",
    "$$z_1 z_2 = (a+bi)(c+di)$$\n",
    "Aplicando a distribuição da multiplicação\n",
    "$$z_1 z_2 = ac+adi + bci + dci^2$$\n",
    "Agrupando os termos e dado que $i^2 =-1$:\n",
    "$$z_1 z_2 = (ac -dc) + (ad + bc)i$$"
   ]
  },
  {
   "cell_type": "code",
   "execution_count": 11,
   "metadata": {
    "collapsed": false,
    "deletable": true,
    "editable": true
   },
   "outputs": [
    {
     "data": {
      "text/latex": [
       "$$z_1 z_2 = a c - b d + i \\left(a d + b c\\right)$$"
      ],
      "text/plain": [
       "<IPython.core.display.Math object>"
      ]
     },
     "metadata": {},
     "output_type": "display_data"
    }
   ],
   "source": [
    "# Produto\n",
    "produtoZ = z1*z2\n",
    "produtoZ = produtoZ.expand() # Expandindo Multiplicação\n",
    "produtoZ = produtoZ.collect(I) # Agrupando termos\n",
    "display(Math(\"z_1 z_2 = \"+ latex(produtoZ)))"
   ]
  },
  {
   "cell_type": "markdown",
   "metadata": {
    "deletable": true,
    "editable": true
   },
   "source": [
    "#### A5 Conjugado\n",
    "$$\\bar{z_1} \\equiv a - bi$$\n",
    "\n",
    "##### Alguns resultados\n",
    "\n",
    "R1:\n",
    "$$z+\\bar{z} = (a + b i) + (a - b i) = 2a $$\n",
    "$$z+\\bar{z} = Re(z)$$\n",
    "\n",
    "R2:\n",
    "$$z-\\bar{z} = (a + b i) - (a - b i) = 2bi $$\n",
    "$$z-\\bar{z} = Im(z)$$\n",
    "\n",
    "R2:\n",
    "$$z\\bar{z} = (a + b i)(a - b i) = a^2 + b^2 $$\n",
    "$$z\\bar{z} = |z|^2$$\n"
   ]
  },
  {
   "cell_type": "code",
   "execution_count": 5,
   "metadata": {
    "collapsed": false,
    "deletable": true,
    "editable": true
   },
   "outputs": [
    {
     "data": {
      "text/latex": [
       "$$\\bar{z} = a - i b$$"
      ],
      "text/plain": [
       "<IPython.core.display.Math object>"
      ]
     },
     "metadata": {},
     "output_type": "display_data"
    }
   ],
   "source": [
    "# conjugado\n",
    "conjZ = conjugate(z1)\n",
    "display(Math(\"\\\\bar{z} = \"+ latex(conjZ)))"
   ]
  },
  {
   "cell_type": "markdown",
   "metadata": {
    "deletable": true,
    "editable": true
   },
   "source": [
    "# Referências\n",
    "\n",
    " * []: "
   ]
  }
 ],
 "metadata": {
  "kernelspec": {
   "display_name": "Python 2",
   "language": "python",
   "name": "python2"
  },
  "language_info": {
   "codemirror_mode": {
    "name": "ipython",
    "version": 2
   },
   "file_extension": ".py",
   "mimetype": "text/x-python",
   "name": "python",
   "nbconvert_exporter": "python",
   "pygments_lexer": "ipython2",
   "version": "2.7.6"
  }
 },
 "nbformat": 4,
 "nbformat_minor": 2
}
